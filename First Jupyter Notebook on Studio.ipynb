{
    "cells": [
        {
            "cell_type": "code",
            "execution_count": 3,
            "metadata": {},
            "outputs": [
                {
                    "name": "stdout",
                    "output_type": "stream",
                    "text": "Hello human,\nI am an instance of IBM Watson Haha\n"
                }
            ],
            "source": "print(\"Hello human,\\nI am an instance of IBM Watson Haha\")"
        },
        {
            "cell_type": "code",
            "execution_count": 4,
            "metadata": {},
            "outputs": [
                {
                    "data": {
                        "text/html": "<div>\n<style scoped>\n    .dataframe tbody tr th:only-of-type {\n        vertical-align: middle;\n    }\n\n    .dataframe tbody tr th {\n        vertical-align: top;\n    }\n\n    .dataframe thead th {\n        text-align: right;\n    }\n</style>\n<table border=\"1\" class=\"dataframe\">\n  <thead>\n    <tr style=\"text-align: right;\">\n      <th></th>\n      <th>Unnamed: 0</th>\n      <th>Job Title</th>\n      <th>Salary Estimate</th>\n      <th>Job Description</th>\n      <th>Rating</th>\n      <th>Company Name</th>\n      <th>Location</th>\n      <th>Headquarters</th>\n      <th>Size</th>\n      <th>Founded</th>\n      <th>Type of ownership</th>\n      <th>Industry</th>\n      <th>Sector</th>\n      <th>Revenue</th>\n      <th>Competitors</th>\n      <th>Easy Apply</th>\n    </tr>\n  </thead>\n  <tbody>\n    <tr>\n      <th>0</th>\n      <td>0</td>\n      <td>Data Analyst, Center on Immigration and Justic...</td>\n      <td>$37K-$66K (Glassdoor est.)</td>\n      <td>Are you eager to roll up your sleeves and harn...</td>\n      <td>3.2</td>\n      <td>Vera Institute of Justice\\n3.2</td>\n      <td>New York, NY</td>\n      <td>New York, NY</td>\n      <td>201 to 500 employees</td>\n      <td>1961</td>\n      <td>Nonprofit Organization</td>\n      <td>Social Assistance</td>\n      <td>Non-Profit</td>\n      <td>$100 to $500 million (USD)</td>\n      <td>-1</td>\n      <td>True</td>\n    </tr>\n    <tr>\n      <th>1</th>\n      <td>1</td>\n      <td>Quality Data Analyst</td>\n      <td>$37K-$66K (Glassdoor est.)</td>\n      <td>Overview\\n\\nProvides analytical and technical ...</td>\n      <td>3.8</td>\n      <td>Visiting Nurse Service of New York\\n3.8</td>\n      <td>New York, NY</td>\n      <td>New York, NY</td>\n      <td>10000+ employees</td>\n      <td>1893</td>\n      <td>Nonprofit Organization</td>\n      <td>Health Care Services &amp; Hospitals</td>\n      <td>Health Care</td>\n      <td>$2 to $5 billion (USD)</td>\n      <td>-1</td>\n      <td>-1</td>\n    </tr>\n    <tr>\n      <th>2</th>\n      <td>2</td>\n      <td>Senior Data Analyst, Insights &amp; Analytics Team...</td>\n      <td>$37K-$66K (Glassdoor est.)</td>\n      <td>We\u2019re looking for a Senior Data Analyst who ha...</td>\n      <td>3.4</td>\n      <td>Squarespace\\n3.4</td>\n      <td>New York, NY</td>\n      <td>New York, NY</td>\n      <td>1001 to 5000 employees</td>\n      <td>2003</td>\n      <td>Company - Private</td>\n      <td>Internet</td>\n      <td>Information Technology</td>\n      <td>Unknown / Non-Applicable</td>\n      <td>GoDaddy</td>\n      <td>-1</td>\n    </tr>\n    <tr>\n      <th>3</th>\n      <td>3</td>\n      <td>Data Analyst</td>\n      <td>$37K-$66K (Glassdoor est.)</td>\n      <td>Requisition NumberRR-0001939\\nRemote:Yes\\nWe c...</td>\n      <td>4.1</td>\n      <td>Celerity\\n4.1</td>\n      <td>New York, NY</td>\n      <td>McLean, VA</td>\n      <td>201 to 500 employees</td>\n      <td>2002</td>\n      <td>Subsidiary or Business Segment</td>\n      <td>IT Services</td>\n      <td>Information Technology</td>\n      <td>$50 to $100 million (USD)</td>\n      <td>-1</td>\n      <td>-1</td>\n    </tr>\n    <tr>\n      <th>4</th>\n      <td>4</td>\n      <td>Reporting Data Analyst</td>\n      <td>$37K-$66K (Glassdoor est.)</td>\n      <td>ABOUT FANDUEL GROUP\\n\\nFanDuel Group is a worl...</td>\n      <td>3.9</td>\n      <td>FanDuel\\n3.9</td>\n      <td>New York, NY</td>\n      <td>New York, NY</td>\n      <td>501 to 1000 employees</td>\n      <td>2009</td>\n      <td>Company - Private</td>\n      <td>Sports &amp; Recreation</td>\n      <td>Arts, Entertainment &amp; Recreation</td>\n      <td>$100 to $500 million (USD)</td>\n      <td>DraftKings</td>\n      <td>True</td>\n    </tr>\n  </tbody>\n</table>\n</div>",
                        "text/plain": "   Unnamed: 0                                          Job Title  \\\n0           0  Data Analyst, Center on Immigration and Justic...   \n1           1                               Quality Data Analyst   \n2           2  Senior Data Analyst, Insights & Analytics Team...   \n3           3                                       Data Analyst   \n4           4                             Reporting Data Analyst   \n\n              Salary Estimate  \\\n0  $37K-$66K (Glassdoor est.)   \n1  $37K-$66K (Glassdoor est.)   \n2  $37K-$66K (Glassdoor est.)   \n3  $37K-$66K (Glassdoor est.)   \n4  $37K-$66K (Glassdoor est.)   \n\n                                     Job Description  Rating  \\\n0  Are you eager to roll up your sleeves and harn...     3.2   \n1  Overview\\n\\nProvides analytical and technical ...     3.8   \n2  We\u2019re looking for a Senior Data Analyst who ha...     3.4   \n3  Requisition NumberRR-0001939\\nRemote:Yes\\nWe c...     4.1   \n4  ABOUT FANDUEL GROUP\\n\\nFanDuel Group is a worl...     3.9   \n\n                              Company Name      Location  Headquarters  \\\n0           Vera Institute of Justice\\n3.2  New York, NY  New York, NY   \n1  Visiting Nurse Service of New York\\n3.8  New York, NY  New York, NY   \n2                         Squarespace\\n3.4  New York, NY  New York, NY   \n3                            Celerity\\n4.1  New York, NY    McLean, VA   \n4                             FanDuel\\n3.9  New York, NY  New York, NY   \n\n                     Size  Founded               Type of ownership  \\\n0    201 to 500 employees     1961          Nonprofit Organization   \n1        10000+ employees     1893          Nonprofit Organization   \n2  1001 to 5000 employees     2003               Company - Private   \n3    201 to 500 employees     2002  Subsidiary or Business Segment   \n4   501 to 1000 employees     2009               Company - Private   \n\n                           Industry                            Sector  \\\n0                 Social Assistance                        Non-Profit   \n1  Health Care Services & Hospitals                       Health Care   \n2                          Internet            Information Technology   \n3                       IT Services            Information Technology   \n4               Sports & Recreation  Arts, Entertainment & Recreation   \n\n                      Revenue Competitors Easy Apply  \n0  $100 to $500 million (USD)          -1       True  \n1      $2 to $5 billion (USD)          -1         -1  \n2    Unknown / Non-Applicable     GoDaddy         -1  \n3   $50 to $100 million (USD)          -1         -1  \n4  $100 to $500 million (USD)  DraftKings       True  "
                    },
                    "execution_count": 4,
                    "metadata": {},
                    "output_type": "execute_result"
                }
            ],
            "source": "# The code was removed by Watson Studio for sharing."
        },
        {
            "cell_type": "code",
            "execution_count": null,
            "metadata": {},
            "outputs": [],
            "source": ""
        }
    ],
    "metadata": {
        "kernelspec": {
            "display_name": "Python 3.6 with Spark",
            "language": "python3",
            "name": "python36"
        },
        "language_info": {
            "codemirror_mode": {
                "name": "ipython",
                "version": 3
            },
            "file_extension": ".py",
            "mimetype": "text/x-python",
            "name": "python",
            "nbconvert_exporter": "python",
            "pygments_lexer": "ipython3",
            "version": "3.6.8"
        }
    },
    "nbformat": 4,
    "nbformat_minor": 1
}